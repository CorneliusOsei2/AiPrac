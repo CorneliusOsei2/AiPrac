{
  "cells": [
    {
      "cell_type": "code",
      "execution_count": null,
      "metadata": {
        "id": "UAG48lD6o0F6"
      },
      "outputs": [],
      "source": [
        "import pandas as pd\n",
        "from sklearn.model_selection import train_test_split\n",
        "from sklearn.linear_model import LinearRegression\n",
        "from sklearn.metrics import mean_squared_error, mean_absolute_error, r2_score"
      ]
    },
    {
      "cell_type": "code",
      "execution_count": 1,
      "metadata": {
        "id": "yS9DTPrWr7T6"
      },
      "outputs": [],
      "source": [
        "#Generate random restaurant data\n",
        "import random\n",
        "import json\n",
        "\n",
        "restaurants = []\n",
        "for i in range(500):\n",
        "    name = f\"Restaurant {i}\"\n",
        "    rating = round(random.uniform(0, 1), 1)\n",
        "    review = round(random.uniform(0, 1), 1)\n",
        "    restaurants.append({\"name\": name, \"rating\": rating, \"review\": review})\n",
        "\n",
        "with open(\"restaurants.json\", \"w\") as f:\n",
        "    json.dump(restaurants, f, indent=2)"
      ]
    },
    {
      "cell_type": "code",
      "execution_count": null,
      "metadata": {
        "colab": {
          "base_uri": "https://localhost:8080/"
        },
        "id": "CTmMJzVesqwq",
        "outputId": "0dcda755-0fb3-472b-8d80-d1063df25e0e"
      },
      "outputs": [],
      "source": [
        "restaurants"
      ]
    },
    {
      "cell_type": "code",
      "execution_count": null,
      "metadata": {
        "id": "dpnJactstFUz"
      },
      "outputs": [],
      "source": [
        "#Transforming list of json objects into csv \n",
        "import csv\n",
        "\n",
        "# Load the JSON data from file\n",
        "with open('restaurants.json', 'r') as f:\n",
        "    data = json.load(f)\n",
        "\n",
        "# Define the headers for the CSV file\n",
        "headers = ['name', 'rating', 'review']\n",
        "\n",
        "# Open a new CSV file for writing\n",
        "with open('data.csv', 'w', newline='') as f:\n",
        "    writer = csv.DictWriter(f, fieldnames=headers)\n",
        "\n",
        "    # Write the headers to the CSV file\n",
        "    writer.writeheader()\n",
        "\n",
        "    # Write each JSON object to the CSV file\n",
        "    for obj in data:\n",
        "        writer.writerow(obj)"
      ]
    },
    {
      "cell_type": "code",
      "execution_count": null,
      "metadata": {
        "colab": {
          "base_uri": "https://localhost:8080/"
        },
        "id": "TDOZTH6-tvEM",
        "outputId": "e2e1f286-215b-4dd2-e3cc-8f735922d971"
      },
      "outputs": [],
      "source": [
        "data"
      ]
    },
    {
      "cell_type": "code",
      "execution_count": null,
      "metadata": {
        "id": "9LgBBUi1uqnK"
      },
      "outputs": [],
      "source": [
        "restaurant_data=pd.read_csv('data.csv')"
      ]
    },
    {
      "cell_type": "code",
      "execution_count": null,
      "metadata": {
        "colab": {
          "base_uri": "https://localhost:8080/"
        },
        "id": "BQtyfRddwCP2",
        "outputId": "d7051489-003a-4238-f87b-2ee64cc00864"
      },
      "outputs": [],
      "source": [
        "import pandas as pd\n",
        "from sklearn.decomposition import PCA\n",
        "\n",
        "# Load the restaurant data from file\n",
        "data = pd.read_csv('data.csv')\n",
        "\n",
        "# Create a dataframe with the rating and review scores\n",
        "X = data[['rating', 'review']]\n",
        "\n",
        "# Fit a PCA model to the data\n",
        "pca = PCA().fit(X)\n",
        "\n",
        "# Print the explained variance ratios\n",
        "print(pca.explained_variance_ratio_)\n",
        "\n",
        "# Determine the weights for rating and review scores\n",
        "weights = pca.components_[0]\n",
        "rating_weight = weights[0]\n",
        "review_weight = weights[1]\n",
        "\n",
        "print('Rating weight:', rating_weight)\n",
        "print('Review weight:', review_weight)\n"
      ]
    },
    {
      "cell_type": "code",
      "execution_count": null,
      "metadata": {
        "id": "FkLka5TQwVRn"
      },
      "outputs": [],
      "source": [
        "# Calculate the overall score for each restaurant\n",
        "data['overall_score'] = data['rating'] * rating_weight + data['review'] * review_weight\n"
      ]
    },
    {
      "cell_type": "code",
      "execution_count": null,
      "metadata": {
        "colab": {
          "base_uri": "https://localhost:8080/"
        },
        "id": "DpzAMRvcwyOo",
        "outputId": "8c6b3baa-db1a-42d3-d094-29799aac64fa"
      },
      "outputs": [
        {
          "data": {
            "text/plain": [
              "0     -1.270813\n",
              "1     -0.541152\n",
              "2     -0.847208\n",
              "3     -0.207860\n",
              "4     -0.290287\n",
              "         ...   \n",
              "495   -1.121727\n",
              "496   -0.698123\n",
              "497   -0.713891\n",
              "498   -0.663002\n",
              "499   -0.623580\n",
              "Name: overall_score, Length: 500, dtype: float64"
            ]
          },
          "execution_count": 9,
          "metadata": {},
          "output_type": "execute_result"
        }
      ],
      "source": [
        "data['overall_score']"
      ]
    },
    {
      "cell_type": "code",
      "execution_count": null,
      "metadata": {
        "colab": {
          "base_uri": "https://localhost:8080/",
          "height": 424
        },
        "id": "GhhcNbDPfu19",
        "outputId": "78c839d3-eec4-4d2a-87b9-8987448914f4"
      },
      "outputs": [
        {
          "data": {
            "text/html": [
              "\n",
              "  <div id=\"df-30574061-fdb4-4996-83ed-ddf0008cd5bd\">\n",
              "    <div class=\"colab-df-container\">\n",
              "      <div>\n",
              "<style scoped>\n",
              "    .dataframe tbody tr th:only-of-type {\n",
              "        vertical-align: middle;\n",
              "    }\n",
              "\n",
              "    .dataframe tbody tr th {\n",
              "        vertical-align: top;\n",
              "    }\n",
              "\n",
              "    .dataframe thead th {\n",
              "        text-align: right;\n",
              "    }\n",
              "</style>\n",
              "<table border=\"1\" class=\"dataframe\">\n",
              "  <thead>\n",
              "    <tr style=\"text-align: right;\">\n",
              "      <th></th>\n",
              "      <th>name</th>\n",
              "      <th>rating</th>\n",
              "      <th>review</th>\n",
              "      <th>overall_score</th>\n",
              "    </tr>\n",
              "  </thead>\n",
              "  <tbody>\n",
              "    <tr>\n",
              "      <th>0</th>\n",
              "      <td>Restaurant 0</td>\n",
              "      <td>0.9</td>\n",
              "      <td>0.9</td>\n",
              "      <td>-1.270813</td>\n",
              "    </tr>\n",
              "    <tr>\n",
              "      <th>1</th>\n",
              "      <td>Restaurant 1</td>\n",
              "      <td>0.7</td>\n",
              "      <td>0.1</td>\n",
              "      <td>-0.541152</td>\n",
              "    </tr>\n",
              "    <tr>\n",
              "      <th>2</th>\n",
              "      <td>Restaurant 2</td>\n",
              "      <td>0.6</td>\n",
              "      <td>0.6</td>\n",
              "      <td>-0.847208</td>\n",
              "    </tr>\n",
              "    <tr>\n",
              "      <th>3</th>\n",
              "      <td>Restaurant 3</td>\n",
              "      <td>0.2</td>\n",
              "      <td>0.1</td>\n",
              "      <td>-0.207860</td>\n",
              "    </tr>\n",
              "    <tr>\n",
              "      <th>4</th>\n",
              "      <td>Restaurant 4</td>\n",
              "      <td>0.1</td>\n",
              "      <td>0.3</td>\n",
              "      <td>-0.290287</td>\n",
              "    </tr>\n",
              "    <tr>\n",
              "      <th>...</th>\n",
              "      <td>...</td>\n",
              "      <td>...</td>\n",
              "      <td>...</td>\n",
              "      <td>...</td>\n",
              "    </tr>\n",
              "    <tr>\n",
              "      <th>495</th>\n",
              "      <td>Restaurant 495</td>\n",
              "      <td>0.9</td>\n",
              "      <td>0.7</td>\n",
              "      <td>-1.121727</td>\n",
              "    </tr>\n",
              "    <tr>\n",
              "      <th>496</th>\n",
              "      <td>Restaurant 496</td>\n",
              "      <td>0.6</td>\n",
              "      <td>0.4</td>\n",
              "      <td>-0.698123</td>\n",
              "    </tr>\n",
              "    <tr>\n",
              "      <th>497</th>\n",
              "      <td>Restaurant 497</td>\n",
              "      <td>0.4</td>\n",
              "      <td>0.6</td>\n",
              "      <td>-0.713891</td>\n",
              "    </tr>\n",
              "    <tr>\n",
              "      <th>498</th>\n",
              "      <td>Restaurant 498</td>\n",
              "      <td>0.1</td>\n",
              "      <td>0.8</td>\n",
              "      <td>-0.663002</td>\n",
              "    </tr>\n",
              "    <tr>\n",
              "      <th>499</th>\n",
              "      <td>Restaurant 499</td>\n",
              "      <td>0.6</td>\n",
              "      <td>0.3</td>\n",
              "      <td>-0.623580</td>\n",
              "    </tr>\n",
              "  </tbody>\n",
              "</table>\n",
              "<p>500 rows × 4 columns</p>\n",
              "</div>\n",
              "      <button class=\"colab-df-convert\" onclick=\"convertToInteractive('df-30574061-fdb4-4996-83ed-ddf0008cd5bd')\"\n",
              "              title=\"Convert this dataframe to an interactive table.\"\n",
              "              style=\"display:none;\">\n",
              "        \n",
              "  <svg xmlns=\"http://www.w3.org/2000/svg\" height=\"24px\"viewBox=\"0 0 24 24\"\n",
              "       width=\"24px\">\n",
              "    <path d=\"M0 0h24v24H0V0z\" fill=\"none\"/>\n",
              "    <path d=\"M18.56 5.44l.94 2.06.94-2.06 2.06-.94-2.06-.94-.94-2.06-.94 2.06-2.06.94zm-11 1L8.5 8.5l.94-2.06 2.06-.94-2.06-.94L8.5 2.5l-.94 2.06-2.06.94zm10 10l.94 2.06.94-2.06 2.06-.94-2.06-.94-.94-2.06-.94 2.06-2.06.94z\"/><path d=\"M17.41 7.96l-1.37-1.37c-.4-.4-.92-.59-1.43-.59-.52 0-1.04.2-1.43.59L10.3 9.45l-7.72 7.72c-.78.78-.78 2.05 0 2.83L4 21.41c.39.39.9.59 1.41.59.51 0 1.02-.2 1.41-.59l7.78-7.78 2.81-2.81c.8-.78.8-2.07 0-2.86zM5.41 20L4 18.59l7.72-7.72 1.47 1.35L5.41 20z\"/>\n",
              "  </svg>\n",
              "      </button>\n",
              "      \n",
              "  <style>\n",
              "    .colab-df-container {\n",
              "      display:flex;\n",
              "      flex-wrap:wrap;\n",
              "      gap: 12px;\n",
              "    }\n",
              "\n",
              "    .colab-df-convert {\n",
              "      background-color: #E8F0FE;\n",
              "      border: none;\n",
              "      border-radius: 50%;\n",
              "      cursor: pointer;\n",
              "      display: none;\n",
              "      fill: #1967D2;\n",
              "      height: 32px;\n",
              "      padding: 0 0 0 0;\n",
              "      width: 32px;\n",
              "    }\n",
              "\n",
              "    .colab-df-convert:hover {\n",
              "      background-color: #E2EBFA;\n",
              "      box-shadow: 0px 1px 2px rgba(60, 64, 67, 0.3), 0px 1px 3px 1px rgba(60, 64, 67, 0.15);\n",
              "      fill: #174EA6;\n",
              "    }\n",
              "\n",
              "    [theme=dark] .colab-df-convert {\n",
              "      background-color: #3B4455;\n",
              "      fill: #D2E3FC;\n",
              "    }\n",
              "\n",
              "    [theme=dark] .colab-df-convert:hover {\n",
              "      background-color: #434B5C;\n",
              "      box-shadow: 0px 1px 3px 1px rgba(0, 0, 0, 0.15);\n",
              "      filter: drop-shadow(0px 1px 2px rgba(0, 0, 0, 0.3));\n",
              "      fill: #FFFFFF;\n",
              "    }\n",
              "  </style>\n",
              "\n",
              "      <script>\n",
              "        const buttonEl =\n",
              "          document.querySelector('#df-30574061-fdb4-4996-83ed-ddf0008cd5bd button.colab-df-convert');\n",
              "        buttonEl.style.display =\n",
              "          google.colab.kernel.accessAllowed ? 'block' : 'none';\n",
              "\n",
              "        async function convertToInteractive(key) {\n",
              "          const element = document.querySelector('#df-30574061-fdb4-4996-83ed-ddf0008cd5bd');\n",
              "          const dataTable =\n",
              "            await google.colab.kernel.invokeFunction('convertToInteractive',\n",
              "                                                     [key], {});\n",
              "          if (!dataTable) return;\n",
              "\n",
              "          const docLinkHtml = 'Like what you see? Visit the ' +\n",
              "            '<a target=\"_blank\" href=https://colab.research.google.com/notebooks/data_table.ipynb>data table notebook</a>'\n",
              "            + ' to learn more about interactive tables.';\n",
              "          element.innerHTML = '';\n",
              "          dataTable['output_type'] = 'display_data';\n",
              "          await google.colab.output.renderOutput(dataTable, element);\n",
              "          const docLink = document.createElement('div');\n",
              "          docLink.innerHTML = docLinkHtml;\n",
              "          element.appendChild(docLink);\n",
              "        }\n",
              "      </script>\n",
              "    </div>\n",
              "  </div>\n",
              "  "
            ],
            "text/plain": [
              "               name  rating  review  overall_score\n",
              "0      Restaurant 0     0.9     0.9      -1.270813\n",
              "1      Restaurant 1     0.7     0.1      -0.541152\n",
              "2      Restaurant 2     0.6     0.6      -0.847208\n",
              "3      Restaurant 3     0.2     0.1      -0.207860\n",
              "4      Restaurant 4     0.1     0.3      -0.290287\n",
              "..              ...     ...     ...            ...\n",
              "495  Restaurant 495     0.9     0.7      -1.121727\n",
              "496  Restaurant 496     0.6     0.4      -0.698123\n",
              "497  Restaurant 497     0.4     0.6      -0.713891\n",
              "498  Restaurant 498     0.1     0.8      -0.663002\n",
              "499  Restaurant 499     0.6     0.3      -0.623580\n",
              "\n",
              "[500 rows x 4 columns]"
            ]
          },
          "execution_count": 10,
          "metadata": {},
          "output_type": "execute_result"
        }
      ],
      "source": [
        "data"
      ]
    }
  ],
  "metadata": {
    "colab": {
      "provenance": []
    },
    "kernelspec": {
      "display_name": "Python 3",
      "name": "python3"
    },
    "language_info": {
      "codemirror_mode": {
        "name": "ipython",
        "version": 3
      },
      "file_extension": ".py",
      "mimetype": "text/x-python",
      "name": "python",
      "nbconvert_exporter": "python",
      "pygments_lexer": "ipython3",
      "version": "3.8.16"
    }
  },
  "nbformat": 4,
  "nbformat_minor": 0
}
